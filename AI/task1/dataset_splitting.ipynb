{
 "cells": [
  {
   "cell_type": "code",
   "id": "initial_id",
   "metadata": {
    "collapsed": true,
    "ExecuteTime": {
     "end_time": "2024-04-26T12:20:54.342001Z",
     "start_time": "2024-04-26T12:20:54.331746Z"
    }
   },
   "source": [
    "import os\n",
    "import random\n",
    "import shutil"
   ],
   "outputs": [],
   "execution_count": 1
  },
  {
   "metadata": {
    "ExecuteTime": {
     "end_time": "2024-04-26T12:20:54.525925Z",
     "start_time": "2024-04-26T12:20:54.520929Z"
    }
   },
   "cell_type": "code",
   "source": [
    "dataset_path = 'hotdog-nothotdog'\n",
    "train_dataset_path = f'{dataset_path}/train'\n",
    "percentage = 0.7"
   ],
   "id": "f34d4d7282ececa3",
   "outputs": [],
   "execution_count": 2
  },
  {
   "metadata": {
    "ExecuteTime": {
     "end_time": "2024-04-26T12:20:54.746679Z",
     "start_time": "2024-04-26T12:20:54.736369Z"
    }
   },
   "cell_type": "code",
   "source": [
    "image_names_by_class = []\n",
    "class_dirnames = []\n",
    "\n",
    "for class_dirname in os.listdir(train_dataset_path):\n",
    "    class_dirnames.append(class_dirname)\n",
    "    image_names_by_class.append([])\n",
    "    for image_name in os.listdir(f'{train_dataset_path}/{class_dirname}'):\n",
    "        image_names_by_class[-1].append(image_name)\n",
    "        \n",
    "for i in range(len(class_dirnames)):\n",
    "    print(f'{class_dirnames[i]}: {len(image_names_by_class[i])}') "
   ],
   "id": "d9f2e47bcffb335d",
   "outputs": [
    {
     "name": "stdout",
     "output_type": "stream",
     "text": [
      "hotdog: 1409\n",
      "nothotdog: 1500\n"
     ]
    }
   ],
   "execution_count": 3
  },
  {
   "metadata": {
    "ExecuteTime": {
     "end_time": "2024-04-26T12:20:54.932897Z",
     "start_time": "2024-04-26T12:20:54.924379Z"
    }
   },
   "cell_type": "code",
   "source": [
    "number_of_val_images_by_class = [int(len(image_names_by_class[i]) * (1 - percentage)) for i in range(len(image_names_by_class))]\n",
    "number_of_val_images_by_class"
   ],
   "id": "18f237f050cdbcd2",
   "outputs": [
    {
     "data": {
      "text/plain": [
       "[422, 450]"
      ]
     },
     "execution_count": 4,
     "metadata": {},
     "output_type": "execute_result"
    }
   ],
   "execution_count": 4
  },
  {
   "metadata": {
    "ExecuteTime": {
     "end_time": "2024-04-26T12:20:55.689352Z",
     "start_time": "2024-04-26T12:20:55.683472Z"
    }
   },
   "cell_type": "code",
   "source": "val_images_names = [random.sample(image_names, number_of_val_images) for image_names, number_of_val_images in zip(image_names_by_class, number_of_val_images_by_class)]",
   "id": "9b9fbbf5560ec107",
   "outputs": [],
   "execution_count": 5
  },
  {
   "metadata": {
    "ExecuteTime": {
     "end_time": "2024-04-26T12:23:28.111758Z",
     "start_time": "2024-04-26T12:23:27.886374Z"
    }
   },
   "cell_type": "code",
   "source": [
    "if not os.path.isdir(f'{dataset_path}/val'):\n",
    "    os.mkdir(f'{dataset_path}/val')\n",
    "    for i in range(len(val_images_names)):\n",
    "        os.mkdir(f'{dataset_path}/val/{class_dirnames[i]}')\n",
    "for i in range(len(val_images_names)):\n",
    "    class_dirname = class_dirnames[i]\n",
    "    for image_name in val_images_names[i]:\n",
    "        shutil.move(f'{train_dataset_path}/{class_dirname}/{image_name}', f'{dataset_path}/val/{class_dirname}/{image_name}')"
   ],
   "id": "203ab2547952a8a9",
   "outputs": [],
   "execution_count": 10
  },
  {
   "metadata": {},
   "cell_type": "code",
   "outputs": [],
   "execution_count": null,
   "source": "",
   "id": "32aef87695fefee3"
  }
 ],
 "metadata": {
  "kernelspec": {
   "display_name": "Python 3",
   "language": "python",
   "name": "python3"
  },
  "language_info": {
   "codemirror_mode": {
    "name": "ipython",
    "version": 2
   },
   "file_extension": ".py",
   "mimetype": "text/x-python",
   "name": "python",
   "nbconvert_exporter": "python",
   "pygments_lexer": "ipython2",
   "version": "2.7.6"
  }
 },
 "nbformat": 4,
 "nbformat_minor": 5
}
